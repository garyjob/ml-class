{
 "cells": [
  {
   "cell_type": "code",
   "execution_count": 4,
   "metadata": {},
   "outputs": [
    {
     "name": "stdout",
     "output_type": "stream",
     "text": [
      "Epoch 1/10\n",
      "60000/60000 [==============================] - 5s - loss: 0.4711 - acc: 0.8746     \n",
      "Epoch 2/10\n",
      "60000/60000 [==============================] - 5s - loss: 0.3041 - acc: 0.9155     \n",
      "Epoch 3/10\n",
      "60000/60000 [==============================] - 5s - loss: 0.2836 - acc: 0.9203     \n",
      "Epoch 4/10\n",
      "60000/60000 [==============================] - 5s - loss: 0.2734 - acc: 0.9234     \n",
      "Epoch 5/10\n",
      "60000/60000 [==============================] - 5s - loss: 0.2663 - acc: 0.9256     \n",
      "Epoch 6/10\n",
      "60000/60000 [==============================] - 5s - loss: 0.2617 - acc: 0.9272     \n",
      "Epoch 7/10\n",
      "60000/60000 [==============================] - 4s - loss: 0.2577 - acc: 0.9280     \n",
      "Epoch 8/10\n",
      "60000/60000 [==============================] - 4s - loss: 0.2552 - acc: 0.9297     \n",
      "Epoch 9/10\n",
      "60000/60000 [==============================] - 4s - loss: 0.2528 - acc: 0.9301     \n",
      "Epoch 10/10\n",
      "60000/60000 [==============================] - 6s - loss: 0.2506 - acc: 0.9302     \n"
     ]
    },
    {
     "data": {
      "text/plain": [
       "<keras.callbacks.History at 0x1333fd610>"
      ]
     },
     "execution_count": 4,
     "metadata": {},
     "output_type": "execute_result"
    }
   ],
   "source": [
    "import numpy\n",
    "from keras.datasets import mnist\n",
    "from keras.models import Sequential\n",
    "from keras.layers import Dense\n",
    "from keras.layers import Flatten\n",
    "\n",
    "from keras.layers import Dropout\n",
    "from keras.utils import np_utils\n",
    "\n",
    "# load data\n",
    "(X_train, y_train), (X_test, y_test) = mnist.load_data()\n",
    "img_width = X_train.shape[1]\n",
    "img_height = X_train.shape[2]\n",
    "\n",
    "X_train = X_train.astype('float32')\n",
    "\n",
    "# Normalizing the data dramatically improves the predictions\n",
    "X_train /= 255.\n",
    "\n",
    "# one hot encode outputs\n",
    "y_train = np_utils.to_categorical(y_train)\n",
    "num_classes = y_train.shape[1]\n",
    "\n",
    "# create model\n",
    "model=Sequential()\n",
    "model.add(Flatten(input_shape=(img_width,img_height)))\n",
    "\n",
    "# number of neurons in the network\n",
    "# model.add(Dense(30, activation='relu'))\n",
    "\n",
    "model.add(Dense(num_classes, activation='softmax'))\n",
    "model.compile(loss='categorical_crossentropy', optimizer='adam', metrics=['accuracy'])\n",
    "\n",
    "# Fit the model\n",
    "model.fit(X_train, y_train)\n"
   ]
  },
  {
   "cell_type": "code",
   "execution_count": null,
   "metadata": {
    "collapsed": true
   },
   "outputs": [],
   "source": []
  }
 ],
 "metadata": {
  "kernelspec": {
   "display_name": "Python 2",
   "language": "python",
   "name": "python2"
  },
  "language_info": {
   "codemirror_mode": {
    "name": "ipython",
    "version": 2
   },
   "file_extension": ".py",
   "mimetype": "text/x-python",
   "name": "python",
   "nbconvert_exporter": "python",
   "pygments_lexer": "ipython2",
   "version": "2.7.10"
  }
 },
 "nbformat": 4,
 "nbformat_minor": 2
}
